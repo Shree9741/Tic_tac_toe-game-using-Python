{
 "cells": [
  {
   "cell_type": "markdown",
   "id": "2a460e05",
   "metadata": {},
   "source": [
    "# step1 : to create the board"
   ]
  },
  {
   "cell_type": "code",
   "execution_count": 1,
   "id": "7ba6ef0d",
   "metadata": {},
   "outputs": [],
   "source": [
    "from IPython.display import clear_output\n",
    "#printing the tic tac toe board\n",
    "def display_board(board):\n",
    "    clear_output()\n",
    "    print('  |  |')\n",
    "    print(board[1]+' |'+board[2]+' |'+board[3])\n",
    "    print('  |  |')\n",
    "    print('--------')\n",
    "    print('  |  |')\n",
    "    print(board[4]+' |'+board[5]+' |'+board[6])\n",
    "    print('  |  |')\n",
    "    print('--------')\n",
    "    print('  |  |')\n",
    "    print(board[7]+' |'+board[8]+' |'+board[9])\n",
    "    print('  |  |')\n",
    "    "
   ]
  },
  {
   "cell_type": "code",
   "execution_count": 2,
   "id": "42de119d",
   "metadata": {},
   "outputs": [],
   "source": [
    "board=[' ']*10"
   ]
  },
  {
   "cell_type": "code",
   "execution_count": 3,
   "id": "c9f6d383",
   "metadata": {},
   "outputs": [
    {
     "name": "stdout",
     "output_type": "stream",
     "text": [
      "  |  |\n",
      "  |  | \n",
      "  |  |\n",
      "--------\n",
      "  |  |\n",
      "  |  | \n",
      "  |  |\n",
      "--------\n",
      "  |  |\n",
      "  |  | \n",
      "  |  |\n"
     ]
    }
   ],
   "source": [
    "display_board(board)"
   ]
  },
  {
   "cell_type": "markdown",
   "id": "f6d14a0a",
   "metadata": {},
   "source": [
    "# step 2: function that takes the player input  nad assign marker as x or o "
   ]
  },
  {
   "cell_type": "code",
   "execution_count": 4,
   "id": "0561acd2",
   "metadata": {},
   "outputs": [],
   "source": [
    "def player_input():\n",
    "    '''\n",
    "    OUTPUR=(player1 maker,player 2 marker)\n",
    "    '''\n",
    "    marker=''\n",
    "    while  marker!= 'X' and marker!='O':\n",
    "        marker=input('player 1,enter X or O: ').upper()\n",
    "    \n",
    "    \n",
    "    if marker=='X':\n",
    "        return ('X','O')\n",
    "    else:\n",
    "        return ('O','X')\n",
    "    "
   ]
  },
  {
   "cell_type": "code",
   "execution_count": null,
   "id": "d900a730",
   "metadata": {},
   "outputs": [],
   "source": [
    "\n"
   ]
  },
  {
   "cell_type": "code",
   "execution_count": 5,
   "id": "21b00c72",
   "metadata": {},
   "outputs": [],
   "source": [
    "        #function to make sure that if the return is desired output"
   ]
  },
  {
   "cell_type": "code",
   "execution_count": null,
   "id": "26417f41",
   "metadata": {},
   "outputs": [],
   "source": []
  },
  {
   "cell_type": "code",
   "execution_count": 6,
   "id": "33d9b407",
   "metadata": {},
   "outputs": [],
   "source": [
    "#step3 :the function thta takes the board list, markerx oro and desired position and assigns it to the board"
   ]
  },
  {
   "cell_type": "code",
   "execution_count": 7,
   "id": "85075e80",
   "metadata": {},
   "outputs": [],
   "source": [
    "def place_marker(board,marker,position):\n",
    "    board[position]=marker"
   ]
  },
  {
   "cell_type": "code",
   "execution_count": null,
   "id": "9e8521c1",
   "metadata": {},
   "outputs": [],
   "source": []
  },
  {
   "cell_type": "code",
   "execution_count": null,
   "id": "c55135cd",
   "metadata": {},
   "outputs": [],
   "source": []
  },
  {
   "cell_type": "raw",
   "id": "6d5fe26d",
   "metadata": {},
   "source": []
  },
  {
   "cell_type": "code",
   "execution_count": 8,
   "id": "c185b2ef",
   "metadata": {},
   "outputs": [],
   "source": [
    "#step 4:function takes boardand marker and then checks if theta marker wins or not"
   ]
  },
  {
   "cell_type": "code",
   "execution_count": 9,
   "id": "975cf671",
   "metadata": {},
   "outputs": [],
   "source": [
    "def win_check(board, mark):\n",
    "    # Check all rows and see if they share the same marker\n",
    "    if (board[1] == mark and board[2] == mark and board[3] == mark) or \\\n",
    "       (board[4] == mark and board[5] == mark and board[6] == mark) or \\\n",
    "       (board[7] == mark and board[8] == mark and board[9] == mark):\n",
    "        return True\n",
    "\n",
    "    # Check all columns and see if they share the same marker\n",
    "    if (board[1] == mark and board[4] == mark and board[7] == mark) or \\\n",
    "       (board[2] == mark and board[5] == mark and board[8] == mark) or \\\n",
    "       (board[3] == mark and board[6] == mark and board[9] == mark):\n",
    "        return True\n",
    "\n",
    "    # Check for two diagonals and see if they share the same marker\n",
    "    if (board[1] == mark and board[5] == mark and board[9] == mark) or \\\n",
    "       (board[3] == mark and board[5] == mark and board[7] == mark):\n",
    "        return True\n",
    "\n",
    "    return False"
   ]
  },
  {
   "cell_type": "code",
   "execution_count": 10,
   "id": "2236ca35",
   "metadata": {},
   "outputs": [],
   "source": [
    "#step5: Write  function using random module to randomly chose  wich player to play first\n",
    "#random.randint()"
   ]
  },
  {
   "cell_type": "code",
   "execution_count": 11,
   "id": "3a6bfd33",
   "metadata": {},
   "outputs": [],
   "source": [
    "import random\n",
    "def choose_frst():\n",
    "    flip=random.randint(0,1)\n",
    "    if flip == 0:\n",
    "        return 'player 1'\n",
    "    else:\n",
    "        return 'player2'"
   ]
  },
  {
   "cell_type": "code",
   "execution_count": 12,
   "id": "03588a5f",
   "metadata": {},
   "outputs": [],
   "source": [
    "#step6: write  a function to check whther the space on te board is available or not"
   ]
  },
  {
   "cell_type": "code",
   "execution_count": 13,
   "id": "a9eaec07",
   "metadata": {},
   "outputs": [],
   "source": [
    "def space_check(board,position):\n",
    "    return board[position]==' '"
   ]
  },
  {
   "cell_type": "code",
   "execution_count": 14,
   "id": "b2855643",
   "metadata": {},
   "outputs": [],
   "source": [
    "#step 7:check whether the board is full"
   ]
  },
  {
   "cell_type": "code",
   "execution_count": 15,
   "id": "8971ec62",
   "metadata": {},
   "outputs": [],
   "source": [
    "def full_board_check(board):\n",
    "    for i in range( 1,10):\n",
    "        if  space_check(board,i):\n",
    "            return False\n",
    "    return True  \n",
    "        \n",
    "    "
   ]
  },
  {
   "cell_type": "code",
   "execution_count": 16,
   "id": "89f3116a",
   "metadata": {},
   "outputs": [],
   "source": [
    "#step 8:ask for player next position using 6 check whether the position is free\n"
   ]
  },
  {
   "cell_type": "code",
   "execution_count": 25,
   "id": "1d1f0ed7",
   "metadata": {},
   "outputs": [],
   "source": [
    "def player_choice(board):\n",
    "    position=0\n",
    "    while position not in [1,2,3,4,5,6,7,8,9] or not space_check(the_board,position):\n",
    "        position=int(input('choose a position:(1-9)'))\n",
    "    return position"
   ]
  },
  {
   "cell_type": "code",
   "execution_count": 26,
   "id": "1c7f88ff",
   "metadata": {},
   "outputs": [],
   "source": [
    "#write a function that ask the player if they want to play again"
   ]
  },
  {
   "cell_type": "code",
   "execution_count": 27,
   "id": "eaf3565b",
   "metadata": {},
   "outputs": [],
   "source": [
    "def replay():\n",
    "    choice= input(\"play a game?enter yes or no\")\n",
    "    return choice=='yes'"
   ]
  },
  {
   "cell_type": "code",
   "execution_count": 29,
   "id": "5e6e0a81",
   "metadata": {},
   "outputs": [
    {
     "name": "stdout",
     "output_type": "stream",
     "text": [
      "  |  |\n",
      "O |X | \n",
      "  |  |\n",
      "--------\n",
      "  |  |\n",
      "X |O |X\n",
      "  |  |\n",
      "--------\n",
      "  |  |\n",
      "O |X |O\n",
      "  |  |\n",
      "PLAYER 1 HAS WON THE GAME\n",
      "play a game?enter yes or no3\n"
     ]
    }
   ],
   "source": [
    "#while loop to keep running the game\n",
    "\n",
    "# break at rreplay\n",
    "print('WELCOME TO TIC TAC TOE')\n",
    "\n",
    "while True:\n",
    "    #play the game\n",
    "    #set the board,whoseborad ,chose marker\n",
    "    \n",
    "    \n",
    "    #game play\n",
    "    ##player 1turn and player2 turn\n",
    "    the_board=[' ']*10\n",
    "    player1_marker,player2_marker=player_input()\n",
    "    \n",
    "    turn =choose_frst()\n",
    "    print(turn + '  will go first')\n",
    "    \n",
    "    \n",
    "    play_game=input('wnat to play? Y/N')\n",
    "    \n",
    "    if play_game=='Y':\n",
    "        game_on=True\n",
    "    else:\n",
    "        game_on=False\n",
    "        \n",
    "    #gameplay\n",
    "    while game_on:\n",
    "        if turn == 'player1':\n",
    "            \n",
    "            ##player1 turn\n",
    "            \n",
    "            display_board(the_board)\n",
    "            #choose the position\n",
    "            position=player_choice(the_board)\n",
    "            #place the marker on that position\n",
    "            place_marker(the_board,player1_marker,position)\n",
    "            \n",
    "            #chekc if they won or\n",
    "            if win_check(the_board,player1_marker):\n",
    "                display_board(the_board)\n",
    "                print('PLAYER 1 HAS WON THE GAME')\n",
    "                game_on=False\n",
    "            else :\n",
    "                if full_board_check(the_board):\n",
    "                    display_board(the_board)\n",
    "                    print('THE TIE GAME')\n",
    "                    game_on=False\n",
    "                else:\n",
    "                    turn ='player2'\n",
    "            \n",
    "            \n",
    "            #check if they tie\n",
    "            \n",
    "            \n",
    "            \n",
    "            #no tie no win next player will play\n",
    "            \n",
    "        else:\n",
    "            ##player two turn\n",
    "            display_board(the_board)\n",
    "            #choose the position\n",
    "            position=player_choice(the_board)\n",
    "            #place the marker on that position\n",
    "            place_marker(the_board,player2_marker,position)\n",
    "            \n",
    "            #chekc if they won or\n",
    "            if win_check(the_board,player2_marker):\n",
    "                display_board(the_board)\n",
    "                print('PLAYER 2 HAS WON THE GAME')\n",
    "                game_on=False\n",
    "            else :\n",
    "                if full_board_check(the_board):\n",
    "                    display_board(the_board)\n",
    "                    print('THE TIE GAME')\n",
    "                    game_on=False\n",
    "                else:\n",
    "                    turn ='player1'\n",
    "            \n",
    "            \n",
    "        \n",
    "    \n",
    "    \n",
    "    \n",
    "    \n",
    "    \n",
    "    \n",
    "    \n",
    "    \n",
    "    \n",
    "    \n",
    "    \n",
    "    \n",
    "    if not replay():\n",
    "        break"
   ]
  },
  {
   "cell_type": "code",
   "execution_count": null,
   "id": "e9781509",
   "metadata": {},
   "outputs": [],
   "source": []
  },
  {
   "cell_type": "code",
   "execution_count": null,
   "id": "d08a783d",
   "metadata": {},
   "outputs": [],
   "source": []
  }
 ],
 "metadata": {
  "kernelspec": {
   "display_name": "Python 3 (ipykernel)",
   "language": "python",
   "name": "python3"
  },
  "language_info": {
   "codemirror_mode": {
    "name": "ipython",
    "version": 3
   },
   "file_extension": ".py",
   "mimetype": "text/x-python",
   "name": "python",
   "nbconvert_exporter": "python",
   "pygments_lexer": "ipython3",
   "version": "3.11.4"
  }
 },
 "nbformat": 4,
 "nbformat_minor": 5
}
